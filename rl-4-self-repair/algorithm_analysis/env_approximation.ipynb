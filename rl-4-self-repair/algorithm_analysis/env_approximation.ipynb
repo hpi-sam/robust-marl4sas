{
 "cells": [
  {
   "cell_type": "code",
   "execution_count": 1,
   "metadata": {},
   "outputs": [
    {
     "name": "stdout",
     "output_type": "stream",
     "text": [
      "/Users/hao/workspace/hpi_de/4th_Semester/Online Learning/rl-4-self-repair\n"
     ]
    }
   ],
   "source": [
    "cd .."
   ]
  },
  {
   "cell_type": "code",
   "execution_count": 18,
   "metadata": {},
   "outputs": [],
   "source": [
    "import random\n",
    "import numpy as np\n",
    "import pandas as pd\n",
    "from envs.broken_components import BrokenComponentsEnv\n",
    "from envs.data_handler import DataHandler"
   ]
  },
  {
   "cell_type": "code",
   "execution_count": 28,
   "metadata": {},
   "outputs": [],
   "source": [
    "class EnvApproximator():\n",
    "    def __init__(self, env):\n",
    "        self.env = env\n",
    "        n_actions = env.action_space.n\n",
    "        self.failure_matrix_count = np.zeros((n_actions, n_actions))\n",
    "    \n",
    "    def fit_by_episodes(self, num_episodes, improved_sampling=False, verbose=False):\n",
    "        episode = 0\n",
    "        temp_actions = np.arange(self.env.action_space.n).tolist()\n",
    "        while episode < num_episodes:\n",
    "            temp_actions, episode = self.__update(temp_actions, improved_sampling, episode, verbose=verbose)\n",
    "    \n",
    "    def fit_by_steps(self, num_steps, improved_sampling=False, verbose=False):\n",
    "        temp_actions = np.arange(self.env.action_space.n).tolist()\n",
    "        for step in range(num_steps):\n",
    "            temp_actions, _ = self.__update(temp_actions, improved_sampling, verbose=verbose)\n",
    "    \n",
    "    def __update(self, temp_actions, improved_sampling, episode=0, verbose=False):\n",
    "        if improved_sampling:\n",
    "            action = random.choice(temp_actions)\n",
    "        else:\n",
    "            action = self.env.action_space.sample()\n",
    "        \n",
    "        _, reward, done, state_vec = env.step(action)\n",
    "        \n",
    "        if verbose:\n",
    "            print('Action: ', action)\n",
    "            print('Reward: ', reward)\n",
    "            print('Broken Comp:', state_vec, '\\n')\n",
    "        \n",
    "        if reward == 0:\n",
    "            state_vec[action] = 0\n",
    "            self.failure_matrix_count[action] += state_vec\n",
    "        elif reward > 0:\n",
    "            self.failure_matrix_count[action] -= state_vec\n",
    "                \n",
    "            if improved_sampling:\n",
    "                temp_actions.remove(action)\n",
    "            \n",
    "            if done:\n",
    "                self.env.reset()\n",
    "                episode += 1\n",
    "                if improved_sampling:\n",
    "                    temp_actions = np.arange(self.env.action_space.n).tolist()\n",
    "                    \n",
    "        return temp_actions, episode\n",
    "        \n",
    "    \n",
    "    def calc_failure_matrix(self, as_df=False):\n",
    "        failure_matrix_percentage = np.zeros((self.env.action_space.n, self.env.action_space.n))\n",
    "        cliped_failure_matrix = np.clip(self.failure_matrix_count, a_min=0, a_max=None)\n",
    "        \n",
    "        for row in range(failure_matrix_percentage.shape[0]):\n",
    "            if cliped_failure_matrix[row].sum() != 0:\n",
    "                failure_matrix_percentage[row] = cliped_failure_matrix[row] / cliped_failure_matrix[row].sum()\n",
    "                \n",
    "        if as_df:\n",
    "            component_names = [tup[0] for tup in self.env.action_space_names]\n",
    "            return pd.DataFrame(failure_matrix_percentage, columns=component_names, index=component_names)\n",
    "        else:\n",
    "            return failure_matrix_percentage\n",
    "    \n",
    "    def reset(self):\n",
    "        self.env.reset()\n",
    "        self.failure_matrix_count = np.zeros((self.env.action_space.n, self.env.action_space.n))"
   ]
  },
  {
   "cell_type": "markdown",
   "metadata": {},
   "source": [
    "## Init"
   ]
  },
  {
   "cell_type": "code",
   "execution_count": 29,
   "metadata": {},
   "outputs": [
    {
     "data": {
      "text/plain": [
       "[('_SFCdyucdEeet0YmmfbMwkw', 'CF3'),\n",
       " ('_SFLn5ecdEeet0YmmfbMwkw', 'CF3'),\n",
       " ('_SFOroOcdEeet0YmmfbMwkw', 'CF2'),\n",
       " ('_SFE6cOcdEeet0YmmfbMwkw', 'CF3'),\n",
       " ('_SEu7uucdEeet0YmmfbMwkw', 'CF3')]"
      ]
     },
     "execution_count": 29,
     "metadata": {},
     "output_type": "execute_result"
    }
   ],
   "source": [
    "dh = DataHandler()\n",
    "broken_components = dh.get_sample_component_failure_pairs(5)\n",
    "broken_components"
   ]
  },
  {
   "cell_type": "code",
   "execution_count": 30,
   "metadata": {},
   "outputs": [],
   "source": [
    "env = BrokenComponentsEnv(broken_components)"
   ]
  },
  {
   "cell_type": "code",
   "execution_count": 31,
   "metadata": {},
   "outputs": [],
   "source": [
    "env_approximator = EnvApproximator(env)"
   ]
  },
  {
   "cell_type": "markdown",
   "metadata": {},
   "source": [
    "## Make approximation"
   ]
  },
  {
   "cell_type": "markdown",
   "metadata": {},
   "source": [
    "### by number of steps\n",
    "* improved_sampling=False uses the action sampling function of gym.env\n",
    "* improved_sampling=False uses own action improved samping function,  \n",
    "which exclude successful actions (no repair of already repaired components possible anymore)"
   ]
  },
  {
   "cell_type": "code",
   "execution_count": 32,
   "metadata": {},
   "outputs": [
    {
     "name": "stdout",
     "output_type": "stream",
     "text": [
      "Action:  0\n",
      "Reward:  0\n",
      "Broken Comp: [1. 1. 1. 1. 1.] \n",
      "\n",
      "Action:  0\n",
      "Reward:  0\n",
      "Broken Comp: [1. 1. 1. 1. 1.] \n",
      "\n",
      "Action:  1\n",
      "Reward:  25.0\n",
      "Broken Comp: [1. 0. 1. 1. 1.] \n",
      "\n",
      "Action:  3\n",
      "Reward:  16.0\n",
      "Broken Comp: [1. 0. 1. 0. 1.] \n",
      "\n",
      "Action:  2\n",
      "Reward:  6.0\n",
      "Broken Comp: [1. 0. 0. 0. 1.] \n",
      "\n"
     ]
    }
   ],
   "source": [
    "env_approximator.reset()\n",
    "env_approximator.fit_by_steps(5, improved_sampling=True, verbose=True)"
   ]
  },
  {
   "cell_type": "markdown",
   "metadata": {},
   "source": [
    "### by number of episodes\n",
    "* improved_sampling=False uses the action sampling function of gym.env\n",
    "* improved_sampling=False uses own action improved samping function,  \n",
    "which exclude successful actions (no repair of already repaired components possible anymore)"
   ]
  },
  {
   "cell_type": "code",
   "execution_count": 33,
   "metadata": {},
   "outputs": [
    {
     "name": "stdout",
     "output_type": "stream",
     "text": [
      "Action:  3\n",
      "Reward:  16.0\n",
      "Broken Comp: [1. 1. 1. 0. 1.] \n",
      "\n",
      "Action:  2\n",
      "Reward:  6.0\n",
      "Broken Comp: [1. 1. 0. 0. 1.] \n",
      "\n",
      "Action:  1\n",
      "Reward:  25.0\n",
      "Broken Comp: [1. 0. 0. 0. 1.] \n",
      "\n",
      "Action:  4\n",
      "Reward:  9.0\n",
      "Broken Comp: [1. 0. 0. 0. 0.] \n",
      "\n",
      "Action:  0\n",
      "Reward:  12.0\n",
      "Broken Comp: [0. 0. 0. 0. 0.] \n",
      "\n",
      "Action:  2\n",
      "Reward:  6.0\n",
      "Broken Comp: [1. 1. 0. 1. 1.] \n",
      "\n",
      "Action:  3\n",
      "Reward:  16.0\n",
      "Broken Comp: [1. 1. 0. 0. 1.] \n",
      "\n",
      "Action:  0\n",
      "Reward:  0\n",
      "Broken Comp: [1. 1. 0. 0. 1.] \n",
      "\n",
      "Action:  4\n",
      "Reward:  9.0\n",
      "Broken Comp: [1. 1. 0. 0. 0.] \n",
      "\n",
      "Action:  0\n",
      "Reward:  12.0\n",
      "Broken Comp: [0. 1. 0. 0. 0.] \n",
      "\n",
      "Action:  1\n",
      "Reward:  25.0\n",
      "Broken Comp: [0. 0. 0. 0. 0.] \n",
      "\n",
      "Action:  4\n",
      "Reward:  9.0\n",
      "Broken Comp: [1. 1. 1. 1. 0.] \n",
      "\n",
      "Action:  3\n",
      "Reward:  16.0\n",
      "Broken Comp: [1. 1. 1. 0. 0.] \n",
      "\n",
      "Action:  1\n",
      "Reward:  25.0\n",
      "Broken Comp: [1. 0. 1. 0. 0.] \n",
      "\n",
      "Action:  0\n",
      "Reward:  0\n",
      "Broken Comp: [1. 0. 1. 0. 0.] \n",
      "\n",
      "Action:  0\n",
      "Reward:  0\n",
      "Broken Comp: [1. 0. 1. 0. 0.] \n",
      "\n",
      "Action:  2\n",
      "Reward:  6.0\n",
      "Broken Comp: [1. 0. 0. 0. 0.] \n",
      "\n",
      "Action:  0\n",
      "Reward:  12.0\n",
      "Broken Comp: [0. 0. 0. 0. 0.] \n",
      "\n",
      "Action:  1\n",
      "Reward:  25.0\n",
      "Broken Comp: [1. 0. 1. 1. 1.] \n",
      "\n",
      "Action:  2\n",
      "Reward:  6.0\n",
      "Broken Comp: [1. 0. 0. 1. 1.] \n",
      "\n",
      "Action:  3\n",
      "Reward:  16.0\n",
      "Broken Comp: [1. 0. 0. 0. 1.] \n",
      "\n",
      "Action:  0\n",
      "Reward:  0\n",
      "Broken Comp: [1. 0. 0. 0. 1.] \n",
      "\n",
      "Action:  0\n",
      "Reward:  0\n",
      "Broken Comp: [1. 0. 0. 0. 1.] \n",
      "\n",
      "Action:  4\n",
      "Reward:  9.0\n",
      "Broken Comp: [1. 0. 0. 0. 0.] \n",
      "\n",
      "Action:  0\n",
      "Reward:  12.0\n",
      "Broken Comp: [0. 0. 0. 0. 0.] \n",
      "\n",
      "Action:  4\n",
      "Reward:  9.0\n",
      "Broken Comp: [1. 1. 1. 1. 0.] \n",
      "\n",
      "Action:  0\n",
      "Reward:  0\n",
      "Broken Comp: [1. 1. 1. 1. 0.] \n",
      "\n",
      "Action:  3\n",
      "Reward:  16.0\n",
      "Broken Comp: [1. 1. 1. 0. 0.] \n",
      "\n",
      "Action:  1\n",
      "Reward:  25.0\n",
      "Broken Comp: [1. 0. 1. 0. 0.] \n",
      "\n",
      "Action:  2\n",
      "Reward:  6.0\n",
      "Broken Comp: [1. 0. 0. 0. 0.] \n",
      "\n",
      "Action:  0\n",
      "Reward:  12.0\n",
      "Broken Comp: [0. 0. 0. 0. 0.] \n",
      "\n"
     ]
    }
   ],
   "source": [
    "env_approximator.reset()\n",
    "env_approximator.fit_by_episodes(5, improved_sampling=True, verbose=True)"
   ]
  },
  {
   "cell_type": "markdown",
   "metadata": {},
   "source": [
    "#### show failure count matrix and percentage failure matrix"
   ]
  },
  {
   "cell_type": "code",
   "execution_count": 34,
   "metadata": {},
   "outputs": [
    {
     "data": {
      "text/plain": [
       "array([[ 0.,  1.,  3.,  1.,  3.],\n",
       "       [-4.,  0., -3., -1., -2.],\n",
       "       [-5., -2.,  0., -2., -3.],\n",
       "       [-5., -4., -3.,  0., -3.],\n",
       "       [-5., -3., -2., -2.,  0.]])"
      ]
     },
     "execution_count": 34,
     "metadata": {},
     "output_type": "execute_result"
    }
   ],
   "source": [
    "env_approximator.failure_matrix_count"
   ]
  },
  {
   "cell_type": "code",
   "execution_count": 35,
   "metadata": {},
   "outputs": [
    {
     "data": {
      "text/plain": [
       "array([[0.   , 0.125, 0.375, 0.125, 0.375],\n",
       "       [0.   , 0.   , 0.   , 0.   , 0.   ],\n",
       "       [0.   , 0.   , 0.   , 0.   , 0.   ],\n",
       "       [0.   , 0.   , 0.   , 0.   , 0.   ],\n",
       "       [0.   , 0.   , 0.   , 0.   , 0.   ]])"
      ]
     },
     "execution_count": 35,
     "metadata": {},
     "output_type": "execute_result"
    }
   ],
   "source": [
    "env_approximator.calc_failure_matrix()"
   ]
  },
  {
   "cell_type": "code",
   "execution_count": 36,
   "metadata": {},
   "outputs": [
    {
     "data": {
      "text/html": [
       "<div>\n",
       "<style scoped>\n",
       "    .dataframe tbody tr th:only-of-type {\n",
       "        vertical-align: middle;\n",
       "    }\n",
       "\n",
       "    .dataframe tbody tr th {\n",
       "        vertical-align: top;\n",
       "    }\n",
       "\n",
       "    .dataframe thead th {\n",
       "        text-align: right;\n",
       "    }\n",
       "</style>\n",
       "<table border=\"1\" class=\"dataframe\">\n",
       "  <thead>\n",
       "    <tr style=\"text-align: right;\">\n",
       "      <th></th>\n",
       "      <th>_SFCdyucdEeet0YmmfbMwkw</th>\n",
       "      <th>_SFLn5ecdEeet0YmmfbMwkw</th>\n",
       "      <th>_SFOroOcdEeet0YmmfbMwkw</th>\n",
       "      <th>_SFE6cOcdEeet0YmmfbMwkw</th>\n",
       "      <th>_SEu7uucdEeet0YmmfbMwkw</th>\n",
       "    </tr>\n",
       "  </thead>\n",
       "  <tbody>\n",
       "    <tr>\n",
       "      <th>_SFCdyucdEeet0YmmfbMwkw</th>\n",
       "      <td>0.0</td>\n",
       "      <td>0.125</td>\n",
       "      <td>0.375</td>\n",
       "      <td>0.125</td>\n",
       "      <td>0.375</td>\n",
       "    </tr>\n",
       "    <tr>\n",
       "      <th>_SFLn5ecdEeet0YmmfbMwkw</th>\n",
       "      <td>0.0</td>\n",
       "      <td>0.000</td>\n",
       "      <td>0.000</td>\n",
       "      <td>0.000</td>\n",
       "      <td>0.000</td>\n",
       "    </tr>\n",
       "    <tr>\n",
       "      <th>_SFOroOcdEeet0YmmfbMwkw</th>\n",
       "      <td>0.0</td>\n",
       "      <td>0.000</td>\n",
       "      <td>0.000</td>\n",
       "      <td>0.000</td>\n",
       "      <td>0.000</td>\n",
       "    </tr>\n",
       "    <tr>\n",
       "      <th>_SFE6cOcdEeet0YmmfbMwkw</th>\n",
       "      <td>0.0</td>\n",
       "      <td>0.000</td>\n",
       "      <td>0.000</td>\n",
       "      <td>0.000</td>\n",
       "      <td>0.000</td>\n",
       "    </tr>\n",
       "    <tr>\n",
       "      <th>_SEu7uucdEeet0YmmfbMwkw</th>\n",
       "      <td>0.0</td>\n",
       "      <td>0.000</td>\n",
       "      <td>0.000</td>\n",
       "      <td>0.000</td>\n",
       "      <td>0.000</td>\n",
       "    </tr>\n",
       "  </tbody>\n",
       "</table>\n",
       "</div>"
      ],
      "text/plain": [
       "                         _SFCdyucdEeet0YmmfbMwkw  _SFLn5ecdEeet0YmmfbMwkw  \\\n",
       "_SFCdyucdEeet0YmmfbMwkw                      0.0                    0.125   \n",
       "_SFLn5ecdEeet0YmmfbMwkw                      0.0                    0.000   \n",
       "_SFOroOcdEeet0YmmfbMwkw                      0.0                    0.000   \n",
       "_SFE6cOcdEeet0YmmfbMwkw                      0.0                    0.000   \n",
       "_SEu7uucdEeet0YmmfbMwkw                      0.0                    0.000   \n",
       "\n",
       "                         _SFOroOcdEeet0YmmfbMwkw  _SFE6cOcdEeet0YmmfbMwkw  \\\n",
       "_SFCdyucdEeet0YmmfbMwkw                    0.375                    0.125   \n",
       "_SFLn5ecdEeet0YmmfbMwkw                    0.000                    0.000   \n",
       "_SFOroOcdEeet0YmmfbMwkw                    0.000                    0.000   \n",
       "_SFE6cOcdEeet0YmmfbMwkw                    0.000                    0.000   \n",
       "_SEu7uucdEeet0YmmfbMwkw                    0.000                    0.000   \n",
       "\n",
       "                         _SEu7uucdEeet0YmmfbMwkw  \n",
       "_SFCdyucdEeet0YmmfbMwkw                    0.375  \n",
       "_SFLn5ecdEeet0YmmfbMwkw                    0.000  \n",
       "_SFOroOcdEeet0YmmfbMwkw                    0.000  \n",
       "_SFE6cOcdEeet0YmmfbMwkw                    0.000  \n",
       "_SEu7uucdEeet0YmmfbMwkw                    0.000  "
      ]
     },
     "execution_count": 36,
     "metadata": {},
     "output_type": "execute_result"
    }
   ],
   "source": [
    "env_approximator.calc_failure_matrix(as_df=True)"
   ]
  }
 ],
 "metadata": {
  "kernelspec": {
   "display_name": "Python 3",
   "language": "python",
   "name": "python3"
  },
  "language_info": {
   "codemirror_mode": {
    "name": "ipython",
    "version": 3
   },
   "file_extension": ".py",
   "mimetype": "text/x-python",
   "name": "python",
   "nbconvert_exporter": "python",
   "pygments_lexer": "ipython3",
   "version": "3.8.2"
  }
 },
 "nbformat": 4,
 "nbformat_minor": 4
}
