{
 "cells": [
  {
   "cell_type": "markdown",
   "source": [
    "View the agents loss with **[tensorboard](https://www.tensorflow.org/tensorboard/get_started)**.\n",
    "Run the following cells and follow if necessary the linked tutorial."
   ],
   "metadata": {
    "collapsed": false
   }
  },
  {
   "cell_type": "code",
   "execution_count": 1,
   "metadata": {
    "pycharm": {
     "name": "#%%\n"
    }
   },
   "outputs": [],
   "source": [
    "# Load the TensorBoard notebook extension\n",
    "%load_ext tensorboard"
   ]
  },
  {
   "cell_type": "markdown",
   "source": [
    "To view a specific run, update the log path:"
   ],
   "metadata": {
    "collapsed": false
   }
  },
  {
   "cell_type": "code",
   "execution_count": 2,
   "metadata": {
    "pycharm": {
     "name": "#%%\n"
    }
   },
   "outputs": [
    {
     "data": {
      "text/plain": "Launching TensorBoard..."
     },
     "metadata": {},
     "output_type": "display_data"
    },
    {
     "ename": "KeyboardInterrupt",
     "evalue": "",
     "output_type": "error",
     "traceback": [
      "\u001B[1;31m---------------------------------------------------------------------------\u001B[0m",
      "\u001B[1;31mKeyboardInterrupt\u001B[0m                         Traceback (most recent call last)",
      "Input \u001B[1;32mIn [2]\u001B[0m, in \u001B[0;36m<module>\u001B[1;34m\u001B[0m\n\u001B[1;32m----> 1\u001B[0m \u001B[43mget_ipython\u001B[49m\u001B[43m(\u001B[49m\u001B[43m)\u001B[49m\u001B[38;5;241;43m.\u001B[39;49m\u001B[43mrun_line_magic\u001B[49m\u001B[43m(\u001B[49m\u001B[38;5;124;43m'\u001B[39;49m\u001B[38;5;124;43mtensorboard\u001B[39;49m\u001B[38;5;124;43m'\u001B[39;49m\u001B[43m,\u001B[49m\u001B[43m \u001B[49m\u001B[38;5;124;43m'\u001B[39;49m\u001B[38;5;124;43m--logdir ./logs/2022_03_01_15_25\u001B[39;49m\u001B[38;5;124;43m'\u001B[39;49m\u001B[43m)\u001B[49m\n",
      "File \u001B[1;32m~\\.virtualenvs\\robust-marl4sas-ZFMJuugP\\lib\\site-packages\\IPython\\core\\interactiveshell.py:2204\u001B[0m, in \u001B[0;36mInteractiveShell.run_line_magic\u001B[1;34m(self, magic_name, line, _stack_depth)\u001B[0m\n\u001B[0;32m   2202\u001B[0m     kwargs[\u001B[38;5;124m'\u001B[39m\u001B[38;5;124mlocal_ns\u001B[39m\u001B[38;5;124m'\u001B[39m] \u001B[38;5;241m=\u001B[39m \u001B[38;5;28mself\u001B[39m\u001B[38;5;241m.\u001B[39mget_local_scope(stack_depth)\n\u001B[0;32m   2203\u001B[0m \u001B[38;5;28;01mwith\u001B[39;00m \u001B[38;5;28mself\u001B[39m\u001B[38;5;241m.\u001B[39mbuiltin_trap:\n\u001B[1;32m-> 2204\u001B[0m     result \u001B[38;5;241m=\u001B[39m \u001B[43mfn\u001B[49m\u001B[43m(\u001B[49m\u001B[38;5;241;43m*\u001B[39;49m\u001B[43margs\u001B[49m\u001B[43m,\u001B[49m\u001B[43m \u001B[49m\u001B[38;5;241;43m*\u001B[39;49m\u001B[38;5;241;43m*\u001B[39;49m\u001B[43mkwargs\u001B[49m\u001B[43m)\u001B[49m\n\u001B[0;32m   2205\u001B[0m \u001B[38;5;28;01mreturn\u001B[39;00m result\n",
      "File \u001B[1;32m~\\.virtualenvs\\robust-marl4sas-ZFMJuugP\\lib\\site-packages\\tensorboard\\notebook.py:128\u001B[0m, in \u001B[0;36m_start_magic\u001B[1;34m(line)\u001B[0m\n\u001B[0;32m    126\u001B[0m \u001B[38;5;28;01mdef\u001B[39;00m \u001B[38;5;21m_start_magic\u001B[39m(line):\n\u001B[0;32m    127\u001B[0m     \u001B[38;5;124;03m\"\"\"Implementation of the `%tensorboard` line magic.\"\"\"\u001B[39;00m\n\u001B[1;32m--> 128\u001B[0m     \u001B[38;5;28;01mreturn\u001B[39;00m \u001B[43mstart\u001B[49m\u001B[43m(\u001B[49m\u001B[43mline\u001B[49m\u001B[43m)\u001B[49m\n",
      "File \u001B[1;32m~\\.virtualenvs\\robust-marl4sas-ZFMJuugP\\lib\\site-packages\\tensorboard\\notebook.py:162\u001B[0m, in \u001B[0;36mstart\u001B[1;34m(args_string)\u001B[0m\n\u001B[0;32m    159\u001B[0m         handle\u001B[38;5;241m.\u001B[39mupdate(IPython\u001B[38;5;241m.\u001B[39mdisplay\u001B[38;5;241m.\u001B[39mPretty(message))\n\u001B[0;32m    161\u001B[0m parsed_args \u001B[38;5;241m=\u001B[39m shlex\u001B[38;5;241m.\u001B[39msplit(args_string, comments\u001B[38;5;241m=\u001B[39m\u001B[38;5;28;01mTrue\u001B[39;00m, posix\u001B[38;5;241m=\u001B[39m\u001B[38;5;28;01mTrue\u001B[39;00m)\n\u001B[1;32m--> 162\u001B[0m start_result \u001B[38;5;241m=\u001B[39m \u001B[43mmanager\u001B[49m\u001B[38;5;241;43m.\u001B[39;49m\u001B[43mstart\u001B[49m\u001B[43m(\u001B[49m\u001B[43mparsed_args\u001B[49m\u001B[43m)\u001B[49m\n\u001B[0;32m    164\u001B[0m \u001B[38;5;28;01mif\u001B[39;00m \u001B[38;5;28misinstance\u001B[39m(start_result, manager\u001B[38;5;241m.\u001B[39mStartLaunched):\n\u001B[0;32m    165\u001B[0m     _display(\n\u001B[0;32m    166\u001B[0m         port\u001B[38;5;241m=\u001B[39mstart_result\u001B[38;5;241m.\u001B[39minfo\u001B[38;5;241m.\u001B[39mport,\n\u001B[0;32m    167\u001B[0m         print_message\u001B[38;5;241m=\u001B[39m\u001B[38;5;28;01mFalse\u001B[39;00m,\n\u001B[0;32m    168\u001B[0m         display_handle\u001B[38;5;241m=\u001B[39mhandle,\n\u001B[0;32m    169\u001B[0m     )\n",
      "File \u001B[1;32m~\\.virtualenvs\\robust-marl4sas-ZFMJuugP\\lib\\site-packages\\tensorboard\\manager.py:425\u001B[0m, in \u001B[0;36mstart\u001B[1;34m(arguments, timeout)\u001B[0m\n\u001B[0;32m    423\u001B[0m end_time_seconds \u001B[38;5;241m=\u001B[39m start_time_seconds \u001B[38;5;241m+\u001B[39m timeout\u001B[38;5;241m.\u001B[39mtotal_seconds()\n\u001B[0;32m    424\u001B[0m \u001B[38;5;28;01mwhile\u001B[39;00m time\u001B[38;5;241m.\u001B[39mtime() \u001B[38;5;241m<\u001B[39m end_time_seconds:\n\u001B[1;32m--> 425\u001B[0m     \u001B[43mtime\u001B[49m\u001B[38;5;241;43m.\u001B[39;49m\u001B[43msleep\u001B[49m\u001B[43m(\u001B[49m\u001B[43mpoll_interval_seconds\u001B[49m\u001B[43m)\u001B[49m\n\u001B[0;32m    426\u001B[0m     subprocess_result \u001B[38;5;241m=\u001B[39m p\u001B[38;5;241m.\u001B[39mpoll()\n\u001B[0;32m    427\u001B[0m     \u001B[38;5;28;01mif\u001B[39;00m subprocess_result \u001B[38;5;129;01mis\u001B[39;00m \u001B[38;5;129;01mnot\u001B[39;00m \u001B[38;5;28;01mNone\u001B[39;00m:\n",
      "\u001B[1;31mKeyboardInterrupt\u001B[0m: "
     ]
    }
   ],
   "source": [
    "%tensorboard --logdir ./logs/2022_03_01_15_25\n"
   ]
  }
 ],
 "metadata": {
  "colab": {
   "collapsed_sections": [],
   "name": "get_started.ipynb",
   "toc_visible": true
  },
  "kernelspec": {
   "display_name": "Python 3 (ipykernel)",
   "language": "python",
   "name": "python3"
  },
  "language_info": {
   "codemirror_mode": {
    "name": "ipython",
    "version": 3
   },
   "file_extension": ".py",
   "mimetype": "text/x-python",
   "name": "python",
   "nbconvert_exporter": "python",
   "pygments_lexer": "ipython3",
   "version": "3.8.9"
  }
 },
 "nbformat": 4,
 "nbformat_minor": 1
}