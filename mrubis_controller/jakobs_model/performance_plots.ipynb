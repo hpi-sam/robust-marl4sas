{
 "cells": [
  {
   "cell_type": "code",
   "execution_count": 1,
   "source": [
    "import pandas as pd\n",
    "import matplotlib.pyplot as plt\n",
    "import seaborn as sns\n",
    "from pathlib import Path\n",
    "from ast import literal_eval\n",
    "from sklearn.metrics import auc\n",
    "import numpy as np\n",
    "from matplotlib.ticker import MaxNLocator"
   ],
   "outputs": [],
   "metadata": {}
  },
  {
   "cell_type": "code",
   "execution_count": 2,
   "source": [
    "np.random.seed(42)"
   ],
   "outputs": [],
   "metadata": {}
  },
  {
   "cell_type": "code",
   "execution_count": 3,
   "source": [
    "controller_output = Path('output')"
   ],
   "outputs": [],
   "metadata": {}
  },
  {
   "cell_type": "code",
   "execution_count": 16,
   "source": [
    "df1 = pd.read_csv('output/100_runs_highest_utility.csv')\n",
    "df2 = pd.read_csv('output/100_runs_highest_random.csv')"
   ],
   "outputs": [],
   "metadata": {}
  },
  {
   "cell_type": "code",
   "execution_count": 3,
   "source": [
    "random_cost_dfs = []\n",
    "for random_run in controller_output.glob('100_runs_random_utility*.csv'):\n",
    "    random_cost_dfs.append(pd.read_csv(random_run))"
   ],
   "outputs": [
    {
     "ename": "NameError",
     "evalue": "name 'controller_output' is not defined",
     "output_type": "error",
     "traceback": [
      "\u001B[1;31m---------------------------------------------------------------------------\u001B[0m",
      "\u001B[1;31mNameError\u001B[0m                                 Traceback (most recent call last)",
      "\u001B[1;32m~\\AppData\\Local\\Temp/ipykernel_6552/808316226.py\u001B[0m in \u001B[0;36m<module>\u001B[1;34m\u001B[0m\n\u001B[0;32m      1\u001B[0m \u001B[0mrandom_cost_dfs\u001B[0m \u001B[1;33m=\u001B[0m \u001B[1;33m[\u001B[0m\u001B[1;33m]\u001B[0m\u001B[1;33m\u001B[0m\u001B[1;33m\u001B[0m\u001B[0m\n\u001B[1;32m----> 2\u001B[1;33m \u001B[1;32mfor\u001B[0m \u001B[0mrandom_run\u001B[0m \u001B[1;32min\u001B[0m \u001B[0mcontroller_output\u001B[0m\u001B[1;33m.\u001B[0m\u001B[0mglob\u001B[0m\u001B[1;33m(\u001B[0m\u001B[1;34m'100_runs_random_utility*.csv'\u001B[0m\u001B[1;33m)\u001B[0m\u001B[1;33m:\u001B[0m\u001B[1;33m\u001B[0m\u001B[1;33m\u001B[0m\u001B[0m\n\u001B[0m\u001B[0;32m      3\u001B[0m     \u001B[0mrandom_cost_dfs\u001B[0m\u001B[1;33m.\u001B[0m\u001B[0mappend\u001B[0m\u001B[1;33m(\u001B[0m\u001B[0mpd\u001B[0m\u001B[1;33m.\u001B[0m\u001B[0mread_csv\u001B[0m\u001B[1;33m(\u001B[0m\u001B[0mrandom_run\u001B[0m\u001B[1;33m)\u001B[0m\u001B[1;33m)\u001B[0m\u001B[1;33m\u001B[0m\u001B[1;33m\u001B[0m\u001B[0m\n\u001B[0;32m      4\u001B[0m \u001B[1;33m\u001B[0m\u001B[0m\n",
      "\u001B[1;31mNameError\u001B[0m: name 'controller_output' is not defined"
     ]
    }
   ],
   "metadata": {}
  },
  {
   "cell_type": "markdown",
   "source": [
    "## Rule Picking Strategies (for choosing action per issue)"
   ],
   "metadata": {}
  },
  {
   "cell_type": "code",
   "execution_count": 4,
   "source": [
    "fig, ax = plt.subplots()\n",
    "#sns.lineplot(x='run', y='system_utility', data=pd.concat(random_cost_dfs), ci=95, ax=ax, drawstyle='steps', label='Random Rule')\n",
    "sns.lineplot(x='run', y='system_utility', data=df1, ax=ax, ci=None, drawstyle='steps', label='Order by Utility')\n",
    "sns.lineplot(x='run', y='system_utility', data=df2, ax=ax, ci=None, drawstyle='steps', label='Random Order')\n",
    "ax.set(xlabel='Run', ylabel='System Utility');\n",
    "fig.savefig('output/sys_util_over_runs_rule_choice.png', dpi=300)"
   ],
   "outputs": [
    {
     "data": {
      "text/plain": "<Figure size 432x288 with 1 Axes>",
      "image/png": "[encoded data removed]"
     },
     "metadata": {
      "needs_background": "light"
     },
     "output_type": "display_data"
    }
   ],
   "metadata": {}
  },
  {
   "cell_type": "markdown",
   "source": [
    "## Issue Ranking Strategies"
   ],
   "metadata": {}
  },
  {
   "cell_type": "code",
   "execution_count": null,
   "source": [
    "low_u_df = pd.read_csv(controller_output / '100_runs_lowest_utility.csv')\n",
    "low_c_df = pd.read_csv(controller_output / '100_runs_lowest_cost.csv')\n",
    "low_r_df = pd.read_csv(controller_output / '100_runs_lowest_random.csv')"
   ],
   "outputs": [],
   "metadata": {}
  },
  {
   "cell_type": "code",
   "execution_count": null,
   "source": [
    "for df in [low_u_df, low_c_df, low_r_df]:\n",
    "    df['combined_index'] = 'after fixing ' + df['failure_name'].astype(str) + ' (' + df['shop'].astype(str) + ')'\n",
    "    df.loc[~df['predicted_optimal_utility'].isna(), 'rule_costs'] = df.loc[~df['predicted_optimal_utility'].isna(), 'rule_costs'].apply(literal_eval)"
   ],
   "outputs": [],
   "metadata": {}
  },
  {
   "cell_type": "code",
   "execution_count": null,
   "source": [
    "def calculate_estimated_utility_within_run(df, run, strategy='utility'):\n",
    "    run = df.query(f'run == {run}').copy()\n",
    "    rows_with_fixes = run.loc[~run['predicted_optimal_utility'].isna()].copy()\n",
    "    rows_with_fixes['min_cost'] = rows_with_fixes['rule_costs'].apply(min)\n",
    "    if strategy == 'utility':\n",
    "        rows_with_fixes = rows_with_fixes.sort_values(['predicted_optimal_utility'], ascending=False)\n",
    "    elif strategy == 'cost':\n",
    "        rows_with_fixes = rows_with_fixes.sort_values(['min_cost'], ascending=True)\n",
    "    elif strategy == 'random':\n",
    "        rows_with_fixes = rows_with_fixes.sample(frac=1)\n",
    "    else:\n",
    "        raise NotImplementedError('Strategy {strategy} is not implemented')\n",
    "    rows_with_fixes['estimated_system_utility'] = rows_with_fixes['system_utility'] + rows_with_fixes['predicted_optimal_utility'].fillna(0).cumsum()\n",
    "    if len(rows_with_fixes) > 1:\n",
    "        rows_with_fixes['auc'] = auc(x=np.arange(len(rows_with_fixes)), y=rows_with_fixes['estimated_system_utility'].values)\n",
    "    else:\n",
    "        rows_with_fixes['auc'] = np.nan\n",
    "    return rows_with_fixes"
   ],
   "outputs": [],
   "metadata": {}
  },
  {
   "cell_type": "code",
   "execution_count": null,
   "source": [
    "def estimate_system_utility_for_all_runs(df, strategy):\n",
    "    return pd.concat([calculate_estimated_utility_within_run(df, run, strategy) for run in df['run'].unique()])"
   ],
   "outputs": [],
   "metadata": {}
  },
  {
   "cell_type": "code",
   "execution_count": null,
   "source": [
    "low_u_estimates_df = estimate_system_utility_for_all_runs(low_u_df, 'utility')\\\n",
    "    .reset_index()[['run', 'estimated_system_utility', 'auc']]\\\n",
    "    .reset_index().rename(columns={'index': 'fixed_issues'})\n",
    "low_c_estimates_df = estimate_system_utility_for_all_runs(low_c_df, 'cost')\\\n",
    "    .reset_index()[['run', 'estimated_system_utility', 'auc']]\\\n",
    "    .reset_index().rename(columns={'index': 'fixed_issues'})"
   ],
   "outputs": [],
   "metadata": {}
  },
  {
   "cell_type": "code",
   "execution_count": null,
   "source": [
    "n_random_approach_simulations = 30\n",
    "random_approach_simulations = []\n",
    "for i in range(n_random_approach_simulations):\n",
    "    random_approach_simulations.append(estimate_system_utility_for_all_runs(low_r_df, strategy='random'))\n",
    "low_r_estimates_df = pd.concat(random_approach_simulations)\\\n",
    "                       .groupby(['run', 'fix_status', 'shop', 'component'])\\\n",
    "                       .mean()\\\n",
    "                       .reset_index()[['run', 'auc', 'estimated_system_utility']]\\\n",
    "                       .reset_index().rename(columns={'index': 'fixed_issues'})"
   ],
   "outputs": [],
   "metadata": {}
  },
  {
   "cell_type": "code",
   "execution_count": null,
   "source": [
    "for df in [low_u_estimates_df, low_c_estimates_df, low_r_estimates_df]:\n",
    "    df['fixed_issues'] += 1\n",
    "    df['issues_in_run'] = df.groupby('run')['fixed_issues'].transform('nunique')\n",
    "    df['auc_vs_random'] = df['auc'] - low_r_estimates_df['auc']\n",
    "    df['util_vs_random'] = df['estimated_system_utility'] - low_r_estimates_df['estimated_system_utility']"
   ],
   "outputs": [],
   "metadata": {}
  },
  {
   "cell_type": "code",
   "execution_count": null,
   "source": [
    "fig, ax = plt.subplots()\n",
    "sns.lineplot(x='fixed_issues', y='auc', data=low_r_estimates_df, ax=ax, ci=None, label='Random issue ranking', drawstyle='steps')\n",
    "sns.lineplot(x='fixed_issues', y='auc', data=low_c_estimates_df, ax=ax, ci=None, label='Issue ranking by lowest cost', drawstyle='steps')\n",
    "sns.lineplot(x='fixed_issues', y='auc', data=low_u_estimates_df, ax=ax, ci=None, label='Issue ranking by predicted utility', drawstyle='steps')\n",
    "ax.set(xlabel='Fixed issues', ylabel='Area under the system utility curve (AUC)');\n",
    "fig.tight_layout()\n",
    "fig.savefig(controller_output / 'auc_over_runs.png', dpi=300)"
   ],
   "outputs": [],
   "metadata": {}
  },
  {
   "cell_type": "code",
   "execution_count": null,
   "source": [
    "fig, ax = plt.subplots()\n",
    "sns.lineplot(x='fixed_issues', y='auc_vs_random', data=low_u_estimates_df, ax=ax, ci=None, label='Utility Ranking', drawstyle='steps')\n",
    "sns.lineplot(x='fixed_issues', y='auc_vs_random', data=low_c_estimates_df, ax=ax, ci=None, label='Cost Ranking', drawstyle='steps')\n",
    "ax.set(xlabel='Fixed issues', ylabel='AUC deviation w.r.t. random ordering');\n",
    "fig.tight_layout()\n",
    "fig.savefig(controller_output / 'auc_comp_over_runs.png', dpi=300)"
   ],
   "outputs": [],
   "metadata": {}
  },
  {
   "cell_type": "code",
   "execution_count": null,
   "source": [
    "auc_distributions = pd.DataFrame([low_u_estimates_df['auc_vs_random'], low_c_estimates_df['auc_vs_random']], index=['Utility ranking', 'Cost Ranking']).T"
   ],
   "outputs": [],
   "metadata": {}
  },
  {
   "cell_type": "code",
   "execution_count": null,
   "source": [
    "auc_distributions.describe().to_latex(\n",
    "    controller_output / 'auc_distributions.tex',\n",
    "    float_format=\"%.2f\"\n",
    ")"
   ],
   "outputs": [],
   "metadata": {}
  },
  {
   "cell_type": "code",
   "execution_count": null,
   "source": [
    "fig, ax = plt.subplots()\n",
    "sns.histplot(auc_distributions, ax=ax, bins=30)\n",
    "ax.set(xlabel='AUC deviation w.r.t. random ordering')\n",
    "fig.tight_layout()\n",
    "fig.savefig(controller_output / 'shared_histogram.png')"
   ],
   "outputs": [],
   "metadata": {}
  },
  {
   "cell_type": "code",
   "execution_count": null,
   "source": [
    "fig, ax = plt.subplots()\n",
    "sns.regplot(data=low_c_estimates_df, x='issues_in_run', y='auc_vs_random', label='Cost', ci=95, ax=ax)\n",
    "ax.set(xlabel='Number of issues in run', ylabel='AUC deviation w.r.t. random ordering');\n",
    "fig.tight_layout()\n",
    "fig.savefig(controller_output / 'auc_vs_n_issues_cost.png', dpi=300)"
   ],
   "outputs": [],
   "metadata": {}
  },
  {
   "cell_type": "code",
   "execution_count": null,
   "source": [
    "fig, ax = plt.subplots()\n",
    "sns.regplot(data=low_u_estimates_df, x='issues_in_run', y='auc_vs_random', label='Cost', ci=95, ax=ax)\n",
    "ax.set(xlabel='Number of issues in run', ylabel='AUC deviation w.r.t. random ordering');\n",
    "fig.tight_layout()\n",
    "fig.savefig(controller_output / 'auc_vs_n_issues_utility.png', dpi=300)"
   ],
   "outputs": [],
   "metadata": {}
  },
  {
   "cell_type": "markdown",
   "source": [
    "### Inside indiviual runs"
   ],
   "metadata": {}
  },
  {
   "cell_type": "code",
   "execution_count": null,
   "source": [
    "def plot_strategies_per_run(df, run):\n",
    "    fig, ax = plt.subplots()\n",
    "    plotting_map = {\n",
    "        'Random Ranking': 'random',\n",
    "        'Cost Ranking': 'cost',\n",
    "        'Utility Ranking': 'utility',\n",
    "    }\n",
    "\n",
    "    for label, strategy in plotting_map.items():\n",
    "        ranked_issues = calculate_estimated_utility_within_run(df, run, strategy)\\\n",
    "            .reset_index(drop=True)\\\n",
    "            .reset_index()\\\n",
    "            .rename(columns={'index': 'fixed_issues'})\n",
    "        ranked_issues['fixed_issues'] += 1\n",
    "        ranked_issues.loc[-1] = {\n",
    "            'fixed_issues': 0,\n",
    "            'run': ranked_issues['run'][0],\n",
    "            'fix_status': ranked_issues['fix_status'][0],\n",
    "            'estimated_system_utility': ranked_issues['estimated_system_utility'][0] - ranked_issues['predicted_optimal_utility'][0],\n",
    "            'auc': 0\n",
    "        }  # adding a row\n",
    "        ranked_issues.index = ranked_issues.index + 1  # shifting index\n",
    "        ranked_issues.sort_index(inplace=True)\n",
    "        ranked_issues.plot(\n",
    "            x='fixed_issues',\n",
    "            y='estimated_system_utility',\n",
    "            drawstyle='steps-post',\n",
    "            ax=ax,\n",
    "            label=label,\n",
    "            alpha=0.75\n",
    "    )\n",
    "\n",
    "    ax.set(\n",
    "        xlabel='Addressed Issues',\n",
    "        ylabel='System Utility',\n",
    "        title=f'Run {run}: System Utility (detail)',\n",
    "    )\n",
    "    ax.xaxis.set_major_locator(MaxNLocator(integer=True))\n",
    "\n",
    "    fig.tight_layout()\n",
    "    return fig"
   ],
   "outputs": [],
   "metadata": {}
  },
  {
   "cell_type": "code",
   "execution_count": null,
   "source": [
    "plot_strategies_per_run(low_u_df, 11).savefig(controller_output / 'run_11.png', dpi=300)"
   ],
   "outputs": [],
   "metadata": {}
  },
  {
   "cell_type": "code",
   "execution_count": null,
   "source": [
    "plot_strategies_per_run(low_u_df, 7).savefig(controller_output / 'run_7.png', dpi=300)"
   ],
   "outputs": [],
   "metadata": {}
  }
 ],
 "metadata": {
  "interpreter": {
   "hash": "e134e05457d34029b6460cd73bbf1ed73f339b5b6d98c95be70b69eba114fe95"
  },
  "kernelspec": {
   "name": "python3",
   "language": "python",
   "display_name": "Python 3 (ipykernel)"
  },
  "language_info": {
   "codemirror_mode": {
    "name": "ipython",
    "version": 3
   },
   "file_extension": ".py",
   "mimetype": "text/x-python",
   "name": "python",
   "nbconvert_exporter": "python",
   "pygments_lexer": "ipython3",
   "version": "3.8.8"
  }
 },
 "nbformat": 4,
 "nbformat_minor": 4
}